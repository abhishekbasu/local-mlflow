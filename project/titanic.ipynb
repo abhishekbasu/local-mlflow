{
 "cells": [
  {
   "cell_type": "code",
   "execution_count": null,
   "id": "c4cf912d-aa27-4997-87b6-8afbfc4f3d93",
   "metadata": {},
   "outputs": [],
   "source": [
    "import matplotlib.pyplot as plt\n",
    "import numpy as np\n",
    "import pandas as pd\n",
    "import seaborn as sns\n",
    "\n",
    "import mlflow\n",
    "from sklearn.linear_model import LogisticRegression\n",
    "from sklearn.metrics import classification_report\n",
    "from sklearn.model_selection import train_test_split"
   ]
  },
  {
   "cell_type": "code",
   "execution_count": null,
   "id": "b4e7c97a-b748-4c08-b5ca-ba0903c72d40",
   "metadata": {},
   "outputs": [],
   "source": [
    "sns.set_style(\"whitegrid\")\n",
    "\n",
    "%matplotlib inline"
   ]
  },
  {
   "cell_type": "code",
   "execution_count": null,
   "id": "6e8845a6-57c2-43f9-a6ed-fa0f40ba668c",
   "metadata": {},
   "outputs": [],
   "source": [
    "mlflow.set_tracking_uri(\"http://0.0.0.0:5001\")\n",
    "mlflow.set_experiment(\"titanic\")\n",
    "mlflow.autolog()"
   ]
  },
  {
   "cell_type": "code",
   "execution_count": null,
   "id": "4a87b42d-833f-475d-9646-543547c1c647",
   "metadata": {},
   "outputs": [],
   "source": [
    "DATASOURCE = \"https://raw.githubusercontent.com/datasciencedojo/datasets/refs/heads/master/titanic.csv\""
   ]
  },
  {
   "cell_type": "code",
   "execution_count": null,
   "id": "22fe6c2b-b76e-488a-86c4-d6a958faafd5",
   "metadata": {},
   "outputs": [],
   "source": [
    "data = pd.read_csv(DATASOURCE)\n",
    "data.columns = map(str.lower, data.columns)"
   ]
  },
  {
   "cell_type": "code",
   "execution_count": null,
   "id": "c18ec614-fa66-42f1-bfd6-279222e6ab01",
   "metadata": {},
   "outputs": [],
   "source": [
    "X_cols = [\"age\", \"sibsp\", \"parch\"]\n",
    "y_col = [\"survived\"]"
   ]
  },
  {
   "cell_type": "code",
   "execution_count": null,
   "id": "f794ce72-ef67-4692-a6fa-00d1a0a0b59b",
   "metadata": {},
   "outputs": [],
   "source": [
    "def transform_sex(df: pd.DataFrame) -> pd.DataFrame:\n",
    "    df[\"ismale\"] = 0\n",
    "    df.loc[df[\"sex\"] == \"male\", \"ismale\"] = 1\n",
    "    del df[\"sex\"]\n",
    "    return df"
   ]
  },
  {
   "cell_type": "code",
   "execution_count": null,
   "id": "4719d113-77cb-4651-b5d6-30418380e9ba",
   "metadata": {},
   "outputs": [],
   "source": [
    "train, test = train_test_split(data, test_size=0.2)"
   ]
  },
  {
   "cell_type": "code",
   "execution_count": null,
   "id": "c9f881fd-b5e6-4ca8-b245-b50c92d22c5c",
   "metadata": {},
   "outputs": [],
   "source": [
    "train.info()"
   ]
  },
  {
   "cell_type": "code",
   "execution_count": null,
   "id": "7320cd27-ff51-48eb-bae8-4da290190fed",
   "metadata": {},
   "outputs": [],
   "source": [
    "median_age = train[\"age\"].median()"
   ]
  },
  {
   "cell_type": "code",
   "execution_count": null,
   "id": "2f3505c5-9fad-4173-b652-3d6f6ff356be",
   "metadata": {},
   "outputs": [],
   "source": [
    "train[\"age\"] = train[\"age\"].fillna(median_age)"
   ]
  },
  {
   "cell_type": "code",
   "execution_count": null,
   "id": "f7b4bedd-8338-40f0-93b4-1c754c952cbd",
   "metadata": {},
   "outputs": [],
   "source": [
    "train = transform_sex(train)"
   ]
  },
  {
   "cell_type": "code",
   "execution_count": null,
   "id": "dbdd0938-9974-4eb8-8369-d9a318b8d391",
   "metadata": {},
   "outputs": [],
   "source": [
    "lr = LogisticRegression()"
   ]
  },
  {
   "cell_type": "code",
   "execution_count": null,
   "id": "1b1730c7-c943-4418-bbf3-850425e96f1d",
   "metadata": {},
   "outputs": [],
   "source": [
    "lr.fit(train[X_cols], train[y_col].values.ravel())"
   ]
  },
  {
   "cell_type": "code",
   "execution_count": null,
   "id": "97317f82-603c-402d-90e2-d22420447bb2",
   "metadata": {},
   "outputs": [],
   "source": [
    "y_train_pred = lr.predict(train[X_cols])\n",
    "y_train = train[y_col].values.ravel()"
   ]
  },
  {
   "cell_type": "code",
   "execution_count": null,
   "id": "98dc311b-95d3-467e-a46c-27efeef4c4ac",
   "metadata": {},
   "outputs": [],
   "source": [
    "print(classification_report(y_train, y_train_pred))"
   ]
  },
  {
   "cell_type": "code",
   "execution_count": null,
   "id": "63342736-75c3-48a0-8719-6e25c11d2a21",
   "metadata": {},
   "outputs": [],
   "source": [
    "test[\"age\"] = test[\"age\"].fillna(median_age)\n",
    "test = transform_sex(test)"
   ]
  },
  {
   "cell_type": "code",
   "execution_count": null,
   "id": "5e131a2b-1944-4808-a6f2-7807e6278b9b",
   "metadata": {},
   "outputs": [],
   "source": [
    "y_pred = lr.predict(test[X_cols])\n",
    "y = test[y_col].values.ravel()"
   ]
  },
  {
   "cell_type": "code",
   "execution_count": null,
   "id": "127ca3c8-319b-4bca-8374-51a2f6c8c13e",
   "metadata": {},
   "outputs": [],
   "source": [
    "print(classification_report(y, y_pred))"
   ]
  },
  {
   "cell_type": "code",
   "execution_count": null,
   "id": "53d2fd67-c159-4d01-bd39-93a38a3425d0",
   "metadata": {},
   "outputs": [],
   "source": [
    "# Finish"
   ]
  }
 ],
 "metadata": {
  "kernelspec": {
   "display_name": "Python 3 (ipykernel)",
   "language": "python",
   "name": "python3"
  },
  "language_info": {
   "codemirror_mode": {
    "name": "ipython",
    "version": 3
   },
   "file_extension": ".py",
   "mimetype": "text/x-python",
   "name": "python",
   "nbconvert_exporter": "python",
   "pygments_lexer": "ipython3",
   "version": "3.13.1"
  }
 },
 "nbformat": 4,
 "nbformat_minor": 5
}
